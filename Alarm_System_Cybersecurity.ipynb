{
  "nbformat": 4,
  "nbformat_minor": 0,
  "metadata": {
    "colab": {
      "provenance": [],
      "cell_execution_strategy": "setup",
      "authorship_tag": "ABX9TyNXeiZh+hNSJlk54oXY6FVS",
      "include_colab_link": true
    },
    "kernelspec": {
      "name": "python3",
      "display_name": "Python 3"
    },
    "language_info": {
      "name": "python"
    }
  },
  "cells": [
    {
      "cell_type": "markdown",
      "metadata": {
        "id": "view-in-github",
        "colab_type": "text"
      },
      "source": [
        "<a href=\"https://colab.research.google.com/github/ben854719/Alarm-System_Cybersecurity/blob/main/Alarm_System_Cybersecurity.ipynb\" target=\"_parent\"><img src=\"https://colab.research.google.com/assets/colab-badge.svg\" alt=\"Open In Colab\"/></a>"
      ]
    },
    {
      "cell_type": "code",
      "execution_count": 19,
      "metadata": {
        "colab": {
          "base_uri": "https://localhost:8080/"
        },
        "collapsed": true,
        "id": "AH_94C3lUThn",
        "outputId": "02d3e694-9cbf-449a-9957-9b6e8fc2d339"
      },
      "outputs": [
        {
          "output_type": "stream",
          "name": "stdout",
          "text": [
            "\r0% [Working]\r            \rGet:1 http://security.ubuntu.com/ubuntu jammy-security InRelease [129 kB]\n",
            "Get:2 https://cloud.r-project.org/bin/linux/ubuntu jammy-cran40/ InRelease [3,632 B]\n",
            "Hit:3 http://archive.ubuntu.com/ubuntu jammy InRelease\n",
            "Hit:4 https://r2u.stat.illinois.edu/ubuntu jammy InRelease\n",
            "Get:5 http://archive.ubuntu.com/ubuntu jammy-updates InRelease [128 kB]\n",
            "Hit:6 https://developer.download.nvidia.com/compute/cuda/repos/ubuntu2204/x86_64  InRelease\n",
            "Get:7 http://archive.ubuntu.com/ubuntu jammy-backports InRelease [127 kB]\n",
            "Hit:8 https://ppa.launchpadcontent.net/deadsnakes/ppa/ubuntu jammy InRelease\n",
            "Get:9 http://security.ubuntu.com/ubuntu jammy-security/universe amd64 Packages [1,245 kB]\n",
            "Hit:10 https://ppa.launchpadcontent.net/graphics-drivers/ppa/ubuntu jammy InRelease\n",
            "Hit:11 https://ppa.launchpadcontent.net/ubuntugis/ppa/ubuntu jammy InRelease\n",
            "Get:12 http://archive.ubuntu.com/ubuntu jammy-updates/main amd64 Packages [3,290 kB]\n",
            "Get:13 http://archive.ubuntu.com/ubuntu jammy-updates/universe amd64 Packages [1,553 kB]\n",
            "Get:14 http://archive.ubuntu.com/ubuntu jammy-updates/restricted amd64 Packages [4,622 kB]\n",
            "Fetched 11.1 MB in 2s (5,859 kB/s)\n",
            "Reading package lists... Done\n",
            "W: Skipping acquire of configured file 'main/source/Sources' as repository 'https://r2u.stat.illinois.edu/ubuntu jammy InRelease' does not seem to provide it (sources.list entry misspelt?)\n",
            "Reading package lists... Done\n",
            "Building dependency tree... Done\n",
            "Reading state information... Done\n",
            "libboost-all-dev is already the newest version (1.74.0.3ubuntu7).\n",
            "0 upgraded, 0 newly installed, 0 to remove and 38 not upgraded.\n"
          ]
        }
      ],
      "source": [
        "!apt-get update\n",
        "!apt-get install libboost-all-dev"
      ]
    },
    {
      "source": [
        "%%writefile HardwareComponent.cpp\n",
        "#include <iostream>\n",
        "#include <vector>\n",
        "#include <string>\n",
        "#include \"detectmalware.hpp\"\n",
        "\n",
        "// Abstract base class for Hardware components.\n",
        "class HardwareComponent {\n",
        "  public:\n",
        "  virtual ~HardwareComponent() = default;\n",
        "  virtual void operate() = 0;\n",
        "  virtual std::string getName() const = 0;\n",
        "};\n",
        "\n",
        "// Derived class for CPU.\n",
        "class CPU : public HardwareComponent {\n",
        "  public:\n",
        "  void operate() override {\n",
        "    std::cout << \"CPU is operating.\" << std::endl;\n",
        "  }\n",
        "  std::string getName() const override {\n",
        "    return \"CPU\";\n",
        "   }\n",
        "};\n",
        "\n",
        "// Derived class for memory (RAM).\n",
        "class Memory: public HardwareComponent {\n",
        "  public:\n",
        "  void operate() override {\n",
        "    std::cout << \"Memory is operating.\" << std::endl;\n",
        "  }\n",
        "\n",
        "  std::string getName() const override {\n",
        "    return \"Memory\";\n",
        "   }\n",
        "};\n",
        "\n",
        "// Derive class for storage (SSD/HDD).\n",
        "class Storage: public HardwareComponent {\n",
        "  public:\n",
        "  void operate() override {\n",
        "    std::cout << \"Storage is operating.\" << std::endl;\n",
        "  }\n",
        "\n",
        "  std::string getName() const override {\n",
        "    return \"Storage\";\n",
        "   }\n",
        "};\n",
        "\n",
        "// Class representing the computer system.\n",
        "class Computer {\n",
        "  public:\n",
        "  void addComponent (HardwareComponent* component) { // Corrected parameter name\n",
        "    components.push_back(component); // Push the individual component\n",
        "  }\n",
        "\n",
        "  void powerON() {\n",
        "    std::cout << \"Computer is on.\" << std::endl;\n",
        "    for (const auto& component : components) {\n",
        "      component->operate();\n",
        "    }\n",
        "    std::cout << \"Computer is ready to use.\" << std::endl;\n",
        "  }\n",
        "\n",
        "  ~Computer() {\n",
        "    for (const auto& component : components) {\n",
        "      delete component;\n",
        "    }\n",
        "  }\n",
        "\n",
        "private:\n",
        "  std::vector<HardwareComponent*> components;\n",
        "};\n",
        "\n",
        "int main() {\n",
        "  Computer myComputer;\n",
        "  CPU cpu;\n",
        "  Memory memory;\n",
        "  Storage storage;\n",
        "  myComputer.addComponent(&cpu);\n",
        "  myComputer.addComponent(&memory);\n",
        "  myComputer.addComponent(&storage);\n",
        "  myComputer.powerON();\n",
        "  return 0;\n",
        "}"
      ],
      "cell_type": "code",
      "metadata": {
        "colab": {
          "base_uri": "https://localhost:8080/"
        },
        "id": "OjuCntetyCXO",
        "outputId": "813f73eb-569b-4930-ef39-60a7daa53430"
      },
      "execution_count": 24,
      "outputs": [
        {
          "output_type": "stream",
          "name": "stdout",
          "text": [
            "Overwriting HardwareComponent.cpp\n"
          ]
        }
      ]
    },
    {
      "source": [
        "!g++ HardwareComponent.cpp -o HardwareComponent\n",
        "!./HardwareComponent"
      ],
      "cell_type": "code",
      "metadata": {
        "colab": {
          "base_uri": "https://localhost:8080/"
        },
        "id": "GDJ-vsznyM7S",
        "outputId": "970d02e2-8af6-4531-91d0-80240674b16b"
      },
      "execution_count": 27,
      "outputs": [
        {
          "output_type": "stream",
          "name": "stdout",
          "text": [
            "Computer is on.\n",
            "CPU is operating.\n",
            "Memory is operating.\n",
            "Storage is operating.\n",
            "Computer is ready to use.\n"
          ]
        }
      ]
    },
    {
      "source": [
        "%%writefile detectmalware.hpp\n",
        "#include <iostream>\n",
        "#include <vector>\n",
        "#include <string>\n",
        "\n",
        "// Create an application to detect malware.\n",
        "class solution {\n",
        "  public:\n",
        "  std::vector<std::string> detectmalware(std::vector<std::string> files) {\n",
        "    std::vector<std::string> result;\n",
        "\n",
        "    for(int i = 0; i < files.size(); i++) {\n",
        "      if (files[i] == \"malware\") {\n",
        "        result.push_back(\"malware\");\n",
        "      } else {\n",
        "        result.push_back(\"safe\");\n",
        "      }\n",
        "    }\n",
        "    return result;\n",
        "  }\n",
        "};\n",
        "\n",
        "// Create a main function to test the application.\n",
        " int main() {\n",
        "    solution malware_detector;\n",
        "   std::vector<std::string> test_files = {\"safe\", \"malware\", \"safe\", \"malware\"};\n",
        "   std::vector<std::string> detection_results = malware_detector.detectmalware(test_files);\n",
        "\n",
        "   for (const auto& result : detection_results) {\n",
        "       std::cout << result << std::endl;\n",
        "   }\n",
        "   return 0;\n",
        "};"
      ],
      "cell_type": "code",
      "metadata": {
        "colab": {
          "base_uri": "https://localhost:8080/"
        },
        "id": "vBlpoF01Ak4Q",
        "outputId": "cc438328-c914-4050-96e4-d1599a747aab"
      },
      "execution_count": 28,
      "outputs": [
        {
          "output_type": "stream",
          "name": "stdout",
          "text": [
            "Overwriting detectmalware.hpp\n"
          ]
        }
      ]
    }
  ]
}